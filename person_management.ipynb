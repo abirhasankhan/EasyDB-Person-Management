{
  "nbformat": 4,
  "nbformat_minor": 0,
  "metadata": {
    "colab": {
      "provenance": [],
      "toc_visible": true
    },
    "kernelspec": {
      "name": "python3",
      "display_name": "Python 3"
    },
    "language_info": {
      "name": "python"
    }
  },
  "cells": [
    {
      "cell_type": "markdown",
      "source": [
        "------------------------connect to drive------------------------"
      ],
      "metadata": {
        "id": "wnZv0MkZBLXg"
      }
    },
    {
      "cell_type": "code",
      "execution_count": 6,
      "metadata": {
        "colab": {
          "base_uri": "https://localhost:8080/"
        },
        "id": "vtC7rT1tTBv2",
        "outputId": "cca4f349-a258-4b19-fb04-03694e8495cf"
      },
      "outputs": [
        {
          "output_type": "stream",
          "name": "stdout",
          "text": [
            "Mounted at /content/drive\n"
          ]
        }
      ],
      "source": [
        "from google.colab import drive\n",
        "drive.mount('/content/drive')"
      ]
    },
    {
      "cell_type": "code",
      "source": [
        "cd /content/drive/MyDrive/CSE464/Lab01/"
      ],
      "metadata": {
        "colab": {
          "base_uri": "https://localhost:8080/"
        },
        "id": "BxtJffplUMXh",
        "outputId": "798dd7e0-92f4-4a41-e661-c599ce3f5ea9"
      },
      "execution_count": 7,
      "outputs": [
        {
          "output_type": "stream",
          "name": "stdout",
          "text": [
            "/content/drive/MyDrive/CSE464/Lab01\n"
          ]
        }
      ]
    },
    {
      "cell_type": "markdown",
      "source": [
        "-----------------------CREATE Table-----------------------------\n"
      ],
      "metadata": {
        "id": "pT84_JVeBPjR"
      }
    },
    {
      "cell_type": "code",
      "source": [
        "sqlCommand = \"\"\"CREATE TABLE Person (\n",
        "                PersonID int,\n",
        "                LastName varchar(255),\n",
        "                FirstName varchar(255),\n",
        "                Address varchar(255),\n",
        "                City varchar(255)\n",
        "              );\"\"\"\n",
        "\n",
        "print(sqlCommand)"
      ],
      "metadata": {
        "id": "XT_YWzJ1UXVP"
      },
      "execution_count": null,
      "outputs": []
    },
    {
      "cell_type": "code",
      "source": [
        "import re\n",
        "from pathlib import Path"
      ],
      "metadata": {
        "id": "-Y4sirL7VIuv"
      },
      "execution_count": null,
      "outputs": []
    },
    {
      "cell_type": "code",
      "source": [
        "sqlCommand = re.sub(\"\\n\", \"\", sqlCommand)\n",
        "token = sqlCommand.split()\n",
        "for i in range(len(token)):\n",
        "  print(token[i])"
      ],
      "metadata": {
        "colab": {
          "base_uri": "https://localhost:8080/"
        },
        "id": "YdBVlFbsVQq2",
        "outputId": "314e2fca-c3da-4a78-ca50-37795d80a83b"
      },
      "execution_count": null,
      "outputs": [
        {
          "output_type": "stream",
          "name": "stdout",
          "text": [
            "CREATE\n",
            "TABLE\n",
            "Person\n",
            "(\n",
            "PersonID\n",
            "int,\n",
            "LastName\n",
            "varchar(255),\n",
            "FirstName\n",
            "varchar(255),\n",
            "Address\n",
            "varchar(255),\n",
            "City\n",
            "varchar(255)\n",
            ");\n"
          ]
        }
      ]
    },
    {
      "cell_type": "code",
      "source": [
        "def executionCommand(token):\n",
        "  if token[0] == 'CREATE':\n",
        "    token = [re.sub(\"[()]\", \"\", word) for word in token]\n",
        "    temp = token[3]\n",
        "    token = [word for word in token if word != temp]\n",
        "    for i in range(len(token)):\n",
        "      if token[i] != \" \":\n",
        "        print(token[i])\n",
        "\n",
        "    filename = token[2]\n",
        "    path = filename + \".txt\"\n",
        "    path2 = filename + \".Info.txt\"\n",
        "    address = Path(path)\n",
        "    if address.is_file():\n",
        "      print(\"file already exist\")\n",
        "    else:\n",
        "      f = open(path, \"x\")\n",
        "      f.close()\n",
        "      f2 = open(path2, \"w\")\n",
        "      for i in range(3, len(token)-1, 2):\n",
        "        temp = token[i] + \" \" + token[i + 1] + \"\\n\"\n",
        "        f2.write(temp)\n",
        "      f.close()\n",
        "      print(\"Successfully created\")"
      ],
      "metadata": {
        "id": "zOFX0_HFWIr3"
      },
      "execution_count": null,
      "outputs": []
    },
    {
      "cell_type": "code",
      "source": [
        "executionCommand(token)"
      ],
      "metadata": {
        "colab": {
          "base_uri": "https://localhost:8080/"
        },
        "id": "WMmG1KUnby_x",
        "outputId": "b08dbb62-f0cf-4cc6-985d-c1ee5c4649f3"
      },
      "execution_count": null,
      "outputs": [
        {
          "output_type": "stream",
          "name": "stdout",
          "text": [
            "CREATE\n",
            "TABLE\n",
            "Person\n",
            "PersonID\n",
            "int,\n",
            "LastName\n",
            "varchar255,\n",
            "FirstName\n",
            "varchar255,\n",
            "Address\n",
            "varchar255,\n",
            "City\n",
            "varchar255\n",
            ";\n",
            "Successfully created\n"
          ]
        }
      ]
    },
    {
      "cell_type": "markdown",
      "source": [
        "-----------------INSERT data into File------------------"
      ],
      "metadata": {
        "id": "BB3GrIp_Ar4x"
      }
    },
    {
      "cell_type": "code",
      "source": [
        "PersonID = int(input(\"Enter Person ID: \"))\n",
        "LastName = input(\"Enter Last Name: \")\n",
        "FirstName = input(\"Enter First Name: \")\n",
        "Address = input(\"Enter Address: \")\n",
        "City = input(\"Enter City: \")\n"
      ],
      "metadata": {
        "colab": {
          "base_uri": "https://localhost:8080/"
        },
        "id": "UF4YNsZk4XXy",
        "outputId": "042c31ea-ace7-40e4-ea57-ba174f6463c3"
      },
      "execution_count": null,
      "outputs": [
        {
          "name": "stdout",
          "output_type": "stream",
          "text": [
            "Enter Person ID: 04\n",
            "Enter Last Name: Wolski\n",
            "Enter First Name: Markets\n",
            "Enter Address: ul.-Filtrowa/68\n",
            "Enter City: Walla\n"
          ]
        }
      ]
    },
    {
      "cell_type": "code",
      "source": [
        "insertCommand = (\"\"\"INSERT INTO Person\n",
        "                    VALUES (\n",
        "                          '%d',\n",
        "                          '%s',\n",
        "                          '%s',\n",
        "                          '%s',\n",
        "                          '%s');\"\"\"\n",
        "                          % (PersonID, LastName, FirstName, Address, City))\n",
        "\n",
        "\n",
        "print(insertCommand)"
      ],
      "metadata": {
        "id": "jXgUzlDvxVlL",
        "colab": {
          "base_uri": "https://localhost:8080/"
        },
        "outputId": "1c31b1c6-cf0a-460c-cfcc-8ded12063cf9"
      },
      "execution_count": null,
      "outputs": [
        {
          "output_type": "stream",
          "name": "stdout",
          "text": [
            "INSERT INTO Person\n",
            "                    VALUES (\n",
            "                          '4',\n",
            "                          'Wolski',\n",
            "                          'Markets',\n",
            "                          'ul.-Filtrowa/68',\n",
            "                          'Walla');\n"
          ]
        }
      ]
    },
    {
      "cell_type": "code",
      "source": [
        "import re\n",
        "from pathlib import Path"
      ],
      "metadata": {
        "id": "HkCRYCvE3rHD"
      },
      "execution_count": null,
      "outputs": []
    },
    {
      "cell_type": "code",
      "source": [
        "insertCommand = re.sub(\"\\n\", \"\", insertCommand)\n",
        "tok = insertCommand.split()\n",
        "for i in range(len(tok)):\n",
        "  print(tok[i])"
      ],
      "metadata": {
        "colab": {
          "base_uri": "https://localhost:8080/"
        },
        "id": "muQ7NzfX0Jnl",
        "outputId": "c916817f-c191-4bc1-ff77-b12ef1f26b66"
      },
      "execution_count": null,
      "outputs": [
        {
          "output_type": "stream",
          "name": "stdout",
          "text": [
            "INSERT\n",
            "INTO\n",
            "Person\n",
            "VALUES\n",
            "(\n",
            "'4',\n",
            "'Wolski',\n",
            "'Markets',\n",
            "'ul.-Filtrowa/68',\n",
            "'Walla');\n"
          ]
        }
      ]
    },
    {
      "cell_type": "code",
      "source": [
        "def inExeCommand(tok):\n",
        "  if tok[0] == 'INSERT':\n",
        "          tok = [re.sub(\"[()]\", \"\", word) for word in tok]\n",
        "          temp = tok[4]\n",
        "          tok = [word for word in tok if word != temp]\n",
        "          for i in range(len(tok)):\n",
        "              if tok[i] != \" \":\n",
        "                  print(tok[i])\n",
        "\n",
        "          filename = tok[2]\n",
        "          path = filename + \".txt\"\n",
        "          address = Path(path)\n",
        "          if address.is_file():\n",
        "              with open(path, \"a\") as file:\n",
        "                  file.write('\\n')  # Append a new line\n",
        "                  for i in range(4, len(tok)):\n",
        "                      temp = tok[i] + \"==:==\"\n",
        "                      file.write(temp)\n",
        "              print(\"Insert Successfully\")\n",
        "          else:\n",
        "              print(\"error\")\n",
        "\n",
        "\n",
        "\n"
      ],
      "metadata": {
        "id": "A2_NX7BU0sr5"
      },
      "execution_count": null,
      "outputs": []
    },
    {
      "cell_type": "code",
      "source": [
        "inExeCommand(tok)"
      ],
      "metadata": {
        "colab": {
          "base_uri": "https://localhost:8080/"
        },
        "id": "1Gspr37d3SAi",
        "outputId": "f0791863-a9fd-4cb4-a0e5-49c64b8d6e72"
      },
      "execution_count": null,
      "outputs": [
        {
          "output_type": "stream",
          "name": "stdout",
          "text": [
            "INSERT\n",
            "INTO\n",
            "Person\n",
            "VALUES\n",
            "'4',\n",
            "'Wolski',\n",
            "'Markets',\n",
            "'ul.-Filtrowa/68',\n",
            "'Walla';\n",
            "Insert Successfully\n"
          ]
        }
      ]
    },
    {
      "cell_type": "markdown",
      "source": [
        "---------------Remove full data from File-------------------------\n"
      ],
      "metadata": {
        "id": "O0BrcgjG_XQ4"
      }
    },
    {
      "cell_type": "code",
      "source": [
        "def remove_data_from_file(filename):\n",
        "    with open(filename, 'r+') as file:\n",
        "        file.truncate(0)\n",
        "\n",
        "# Example usage:\n",
        "filename = 'Person.txt'\n",
        "\n",
        "# Remove data from the file\n",
        "remove_data_from_file(filename)\n"
      ],
      "metadata": {
        "id": "Tk5sczpc9ZIx"
      },
      "execution_count": null,
      "outputs": []
    },
    {
      "cell_type": "code",
      "source": [
        "remove_data_from_file(filename)\n"
      ],
      "metadata": {
        "id": "5ODaNbJl_SGR"
      },
      "execution_count": null,
      "outputs": []
    },
    {
      "cell_type": "markdown",
      "source": [
        "--------SELECT data from file---------------\n"
      ],
      "metadata": {
        "id": "TWnweIQTA4nT"
      }
    },
    {
      "cell_type": "code",
      "source": [
        "selectCommand = (\"\"\"SELECT * FROM Person;\"\"\")\n",
        "\n",
        "\n",
        "print(selectCommand)"
      ],
      "metadata": {
        "colab": {
          "base_uri": "https://localhost:8080/"
        },
        "id": "RKa2xwP3BFQ9",
        "outputId": "dd11b908-2ced-4df9-d913-4c8caf5fe0fd"
      },
      "execution_count": 8,
      "outputs": [
        {
          "output_type": "stream",
          "name": "stdout",
          "text": [
            "SELECT * FROM Person;\n"
          ]
        }
      ]
    },
    {
      "cell_type": "code",
      "source": [
        "import re\n",
        "from pathlib import Path"
      ],
      "metadata": {
        "id": "_uhaRYPBETv-"
      },
      "execution_count": 9,
      "outputs": []
    },
    {
      "cell_type": "code",
      "source": [
        "selectCommand = re.sub(\"\\n\", \"\", selectCommand)\n",
        "token01 = selectCommand.split()\n",
        "for i in range(len(token01)):\n",
        "  print(token01[i])"
      ],
      "metadata": {
        "colab": {
          "base_uri": "https://localhost:8080/"
        },
        "id": "8KnNT3BlEXJ8",
        "outputId": "22d9865d-2e4d-4d8b-e871-92faef8d4f84"
      },
      "execution_count": 10,
      "outputs": [
        {
          "output_type": "stream",
          "name": "stdout",
          "text": [
            "SELECT\n",
            "*\n",
            "FROM\n",
            "Person;\n"
          ]
        }
      ]
    },
    {
      "cell_type": "code",
      "source": [
        "import re\n",
        "from pathlib import Path\n",
        "\n",
        "def remove_semicolons(token):\n",
        "    # Remove semicolons\n",
        "    token = [re.sub(\"[(),;]\", \"\", word) for word in token]\n",
        "    token = [word for word in token]\n",
        "    return token\n",
        "\n",
        "def selectExeCommand(token):\n",
        "    if token[0] == 'SELECT':\n",
        "        token = remove_semicolons(token)\n",
        "\n",
        "        filename = token[3]\n",
        "        path = filename + \".txt\"\n",
        "        address = Path(path)\n",
        "\n",
        "        if address.is_file():\n",
        "            with open(address, 'r') as file:\n",
        "\n",
        "                data = file.read()\n",
        "                data = data.replace(\"==:==\", \"\").replace(\";\", \"\")\n",
        "                return data\n",
        "\n",
        "        else:\n",
        "            print(\"File doesn't exist\")\n"
      ],
      "metadata": {
        "id": "Ktzb7_1ocekc"
      },
      "execution_count": 11,
      "outputs": []
    },
    {
      "cell_type": "code",
      "source": [
        "# Execute selectExeCommand function\n",
        "selectExeCommand(token01)\n"
      ],
      "metadata": {
        "colab": {
          "base_uri": "https://localhost:8080/",
          "height": 53
        },
        "id": "wb94jfMaH97r",
        "outputId": "056388d6-2bb1-4d91-d6b1-d2b83f60a646"
      },
      "execution_count": 12,
      "outputs": [
        {
          "output_type": "execute_result",
          "data": {
            "text/plain": [
              "\"\\n'2','Kala','Wilman','Keskuskatu-45','Helsinki'\\n'3','Khan','Abir','E-11/C,Banani','Dhaka'\\n'4','Wolski','Markets','ul.-Filtrowa/68','Walla'\""
            ],
            "application/vnd.google.colaboratory.intrinsic+json": {
              "type": "string"
            }
          },
          "metadata": {},
          "execution_count": 12
        }
      ]
    },
    {
      "cell_type": "markdown",
      "source": [
        "Data store in 2D array"
      ],
      "metadata": {
        "id": "6-diQSApgaLI"
      }
    },
    {
      "cell_type": "code",
      "source": [
        "data = selectExeCommand(token01)\n",
        "\n",
        "# Split the data by newline character\n",
        "lines = data.split(\"\\n\")\n",
        "\n",
        "# Store the lines in a 2D array\n",
        "array_2d = [line.split() for line in lines]\n",
        "\n",
        "\n",
        "#remove empty index from array\n",
        "array_2d_filtered = [row for row in array_2d if row]\n",
        "\n",
        "\n",
        "print(array_2d_filtered)\n",
        "\n",
        "\n",
        "\n",
        "\n"
      ],
      "metadata": {
        "id": "srzn9wobgYw1",
        "colab": {
          "base_uri": "https://localhost:8080/"
        },
        "outputId": "9d6dc828-b75b-4759-9f86-7191bce97c78"
      },
      "execution_count": 13,
      "outputs": [
        {
          "output_type": "stream",
          "name": "stdout",
          "text": [
            "[[\"'2','Kala','Wilman','Keskuskatu-45','Helsinki'\"], [\"'3','Khan','Abir','E-11/C,Banani','Dhaka'\"], [\"'4','Wolski','Markets','ul.-Filtrowa/68','Walla'\"]]\n"
          ]
        }
      ]
    },
    {
      "cell_type": "code",
      "source": [],
      "metadata": {
        "id": "twX9vC_Ti-dz"
      },
      "execution_count": null,
      "outputs": []
    }
  ]
}